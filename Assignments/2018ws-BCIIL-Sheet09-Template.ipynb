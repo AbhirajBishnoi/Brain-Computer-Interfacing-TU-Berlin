{
 "cells": [
  {
   "cell_type": "markdown",
   "metadata": {},
   "source": [
    "### General rules:\n",
    " * For all figures that you generate, remember to add meaningful labels to the axes (including units), and provide a legend and colorbar, if applicable.\n",
    " * Do not hard code constants, like number of samples, number of channels, etc in your program. These values should always be determined from the given data. This way, you can easily use the code to analyse other data sets.\n",
    " * Do not use high-level functions from toolboxes like scikit-learn.\n",
    " * Before submitting, check your code by executing: Kernel -> Restart & run all.\n",
    " * Replace *Template* by your *FirstnameLastname* in the filename, or by *Lastname1Lastname2* if you work in pairs."
   ]
  },
  {
   "cell_type": "markdown",
   "metadata": {},
   "source": [
    "# BCI-IL WS 2018/2019 - Exercise Sheet #09"
   ]
  },
  {
   "cell_type": "markdown",
   "metadata": {},
   "source": [
    "#### Name:"
   ]
  },
  {
   "cell_type": "code",
   "execution_count": null,
   "metadata": {
    "collapsed": true
   },
   "outputs": [],
   "source": [
    "% matplotlib inline\n",
    "\n",
    "import numpy as np\n",
    "import scipy as sp\n",
    "import scipy.signal\n",
    "from matplotlib import pyplot as plt\n",
    "\n",
    "import bci_minitoolbox as bci\n",
    "import bci_classifiers as cfy"
   ]
  },
  {
   "cell_type": "markdown",
   "metadata": {},
   "source": [
    "## Preparation: Load data"
   ]
  },
  {
   "cell_type": "code",
   "execution_count": null,
   "metadata": {},
   "outputs": [],
   "source": [
    "fname = 'imagVPaw.npz'\n",
    "cnt, fs, clab, mnt, mrk_pos, mrk_class, mrk_className = bci.load_data(fname)"
   ]
  },
  {
   "cell_type": "markdown",
   "metadata": {},
   "source": [
    "## Exercise 1: Validation of CSP-based Classification  (6 points)\n",
    "This task is a continuation of the exercises on sheet \\#08 and uses the same dataset. <br>\n",
    "Classification can be performed using log band-power features of the CSP filtered and segmented signals.  Use the same frequency-band, time-interval and selection of six CSP filters (as charaterized by the index) as on the previous sheet. Estimate the generalization error of the whole classification procedure using six feature dimensions using 3-fold cross-validation. <br/>\n",
    "*Take into account what was said in the lecture about validating a CSP-based method!*"
   ]
  },
  {
   "cell_type": "code",
   "execution_count": null,
   "metadata": {
    "collapsed": true
   },
   "outputs": [],
   "source": []
  },
  {
   "cell_type": "markdown",
   "metadata": {},
   "source": [
    "## Exercise 2: (4 points)\n",
    "Use the same frequency band and time interval as before.\n",
    "1. Determine the CSP filters on the *first half* of the data and plot the Eigenvalues in the same way as in exercises 2 of the previous sheet. (Presumably, the result will look quite similar.)\n",
    "2. You know from the lecture, that the Eigenvalues correspond to a ratio of variances. Calculate this corresponding ratio of variance as trial averages: Apply all 51 CSP filters to the data and calculate the variance in each trial. Average the variance for all trials of the first half separately for the two classes. Calculate the ratio of the average variance in class 1 divided by the sum of the average variances in both classes. Visualize the result in a plot like the Eigenvalues. \n",
    "3. Plot the variance ratio as in (2), but this time calculated from the trials of the second half of the data (while still using the CSP filters that were determine on the first half).\n",
    "\n",
    "Investigate and discuss the difference between the plots."
   ]
  },
  {
   "cell_type": "code",
   "execution_count": null,
   "metadata": {
    "collapsed": true
   },
   "outputs": [],
   "source": []
  },
  {
   "cell_type": "markdown",
   "metadata": {},
   "source": [
    "## Exercise 3: Classification using power spectral density features  (5 points)\n",
    "Calculate the power spectral density (PSD, see sheet #07) in the interval 1000-5000 ms for all channels. Keep only the PSD values for the frequencies from 6 to 26 Hz. Concatenate those PSD values for all channels to obtain feature vectors. Estimate the performance of this classification approach using cross-validation.<br/>\n",
    "Repeat the same procedure, this time applying the Laplace filter for selected channels (your choice, at least six) before calculating the PSD."
   ]
  },
  {
   "cell_type": "code",
   "execution_count": null,
   "metadata": {
    "collapsed": true
   },
   "outputs": [],
   "source": []
  }
 ],
 "metadata": {
  "kernelspec": {
   "display_name": "Python 3",
   "language": "python",
   "name": "python3"
  },
  "language_info": {
   "codemirror_mode": {
    "name": "ipython",
    "version": 3
   },
   "file_extension": ".py",
   "mimetype": "text/x-python",
   "name": "python",
   "nbconvert_exporter": "python",
   "pygments_lexer": "ipython3",
   "version": "3.7.2"
  }
 },
 "nbformat": 4,
 "nbformat_minor": 2
}
