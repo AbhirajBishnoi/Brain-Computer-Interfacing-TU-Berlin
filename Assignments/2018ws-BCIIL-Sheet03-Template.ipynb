{
 "cells": [
  {
   "cell_type": "markdown",
   "metadata": {},
   "source": [
    "### General rules:\n",
    " * For all figures that you generate, remember to add meaningful labels to the axes (including units), and provide a legend and colorbar, if applicable.\n",
    " * Do not hard code constants, like number of samples, number of channels, etc in your program. These values should always be determined from the given data. This way, you can easily use the code to analyse other data sets.\n",
    " * Do not use high-level functions from toolboxes like scikit-learn.\n",
    " * Before submitting, check your code by executing: Kernel -> Restart & run all.\n",
    " * Replace *Template* by your *FirstnameLastname* in the filename, or by *Lastname1Lastname2* if you work in pairs."
   ]
  },
  {
   "cell_type": "markdown",
   "metadata": {},
   "source": [
    "# BCI-IL WS 2018/2019 - Exercise Sheet #03"
   ]
  },
  {
   "cell_type": "markdown",
   "metadata": {},
   "source": [
    "#### Name: "
   ]
  },
  {
   "cell_type": "code",
   "execution_count": 1,
   "metadata": {},
   "outputs": [],
   "source": [
    "% matplotlib inline\n",
    "import numpy as np\n",
    "import scipy as sp\n",
    "from matplotlib import pyplot as plt\n",
    "\n",
    "import bci_minitoolbox as bci"
   ]
  },
  {
   "cell_type": "markdown",
   "metadata": {},
   "source": [
    "## Exercise 1: Nearest Centroid Classifier (NCC)  (2 point)\n",
    "Implement the calculation of the nearest centroid classifier (NCC) as a Python function `train_NCC`.  The function should take two arguments, the first being the data matrix $\\bf{X}$ where each column is a data point ($\\bf{x_k}$), and the second being class labels of the data points. Two output arguments should return the weight vector **`w`** and bias `b`."
   ]
  },
  {
   "cell_type": "code",
   "execution_count": 2,
   "metadata": {},
   "outputs": [],
   "source": [
    "def train_NCC(X, y):\n",
    "    '''\n",
    "    Synopsis:\n",
    "        w, b= train_NCC(X, y)\n",
    "    Arguments:\n",
    "        X: data matrix (features X samples)\n",
    "        y: labels with values 0 and 1 (1 x samples)\n",
    "    Output:\n",
    "        w: NCC weight vector\n",
    "        b: bias term\n",
    "    '''\n",
    "    u1 = np.mean(X[:, y == 0])\n",
    "    u2 = np.mean(X[:, y == 1])\n",
    "    w = u2 - u1\n",
    "    b = w.T*((u1 + u2)/2)\n",
    "    return w,b"
   ]
  },
  {
   "cell_type": "markdown",
   "metadata": {},
   "source": [
    "## Exercise 2: Linear Discriminant Analysis (LDA)  (4 points)\n",
    "Implement the calculation of the LDA classifier as a Python function `train_LDA`.  The function should take two arguments, the first being the data matrix $\\bf{X}$ where each column is a data point ($\\bf{x_k}$), and the second being class labels of the data points. Two output arguments should return the weight vector **`w`** and bias `b`."
   ]
  },
  {
   "cell_type": "code",
   "execution_count": 3,
   "metadata": {},
   "outputs": [],
   "source": [
    "def train_LDA(X, y):\n",
    "    '''\n",
    "    Synopsis:\n",
    "        w, b= train_LDA(X, y)\n",
    "    Arguments:\n",
    "        X: data matrix (features X samples)\n",
    "        y: labels with values 0 and 1 (1 x samples)\n",
    "    Output:\n",
    "        w: LDA weight vector\n",
    "        b: bias term\n",
    "    '''\n",
    "    print(\"train_LDA(): LDA call\")\n",
    "    u1 = np.mean(X[:, y == 0])\n",
    "    print(\"train_LDA(): Mean1 calc:\", u1)\n",
    "    u2 = np.mean(X[:, y == 1])\n",
    "    print(\"train_LDA(): Mean2 calc:\", u2 )\n",
    "    \n",
    "    #From np.cov documentation:  each row represents a variable, \n",
    "    #with observations in the columns\n",
    "    C = np.cov(X[:, y == 1], rowvar = False)\n",
    "    print(\"train_LDA(): Cov calc, shape:\", C.shape)\n",
    "    \n",
    "    #w = (np.linalg.inv(C))*(u2 - u1)\n",
    "    w = (np.linalg.inv(C)).dot(u2 - u1)\n",
    "    print(\"train_LDA(): w calc, shape:\", w.shape)\n",
    "    b = w.T * ((u1 + u2)/2)\n",
    "    print(\"train_LDA(): b calc, shape:\", b.shape)\n",
    "    print(\"\")\n",
    "    return w, b"
   ]
  },
  {
   "cell_type": "markdown",
   "metadata": {},
   "source": [
    "## Exercises 3: Cross-validation with weighted loss (2 points)\n",
    "Complete the implementation of `crossvalidation` by writing a loss function `loss_weighted_error` which calculates the weighted loss as explained in the lecture."
   ]
  },
  {
   "cell_type": "code",
   "execution_count": 4,
   "metadata": {},
   "outputs": [],
   "source": [
    "def crossvalidation(classifier_fcn, X, y, nFolds=10, verbose=False):\n",
    "    '''\n",
    "    Synopsis:\n",
    "        loss_te, loss_tr= crossvalidation(classifier_fcn, X, y, nFolds=10, verbose=False)\n",
    "    Arguments:\n",
    "        classifier_fcn: handle to function that trains classifier as output w, b\n",
    "        X:              data matrix (features X samples)\n",
    "        y:              labels with values 0 and 1 (1 x samples)\n",
    "        nFolds:         number of folds\n",
    "        verbose:        print validation results or not\n",
    "    Output:\n",
    "        loss_te: value of loss function averaged across test data\n",
    "        loss_tr: value of loss function averaged across training data\n",
    "    '''\n",
    "    nDim, nSamples = X.shape\n",
    "    print(\"crossvalidation(): nDim:\", nDim)\n",
    "    print(\"crossvalidation(): nSamples\", nSamples)\n",
    "    inter = np.round(np.linspace(0, nSamples, num=nFolds + 1)).astype(int)\n",
    "    perm = np.random.permutation(nSamples)\n",
    "    errTr = np.zeros([nFolds, 1])\n",
    "    errTe = np.zeros([nFolds, 1])\n",
    "\n",
    "    for ff in range(nFolds):\n",
    "        #Testset\n",
    "        idxTe = perm[inter[ff]:inter[ff + 1] + 1]\n",
    "        #Trainingset\n",
    "        idxTr = np.setdiff1d(range(nSamples), idxTe)\n",
    "        w, b = classifier_fcn(X[:, idxTr], y[idxTr])\n",
    "        print(\"crossvalidation(): w shape:\", w.shape)\n",
    "        print(\"crossvalidation(): b shape:\", b.shape)\n",
    "        print(\"crossvalidation(): X shape:\", X.shape)\n",
    "        out = w.T.dot(X) - b\n",
    "        errTe[ff] = loss_weighted_error(out[idxTe], y[idxTe])\n",
    "        errTr[ff] = loss_weighted_error(out[idxTr], y[idxTr])\n",
    "\n",
    "    if verbose:\n",
    "        print('{:5.1f} +/-{:4.1f}  (training:{:5.1f} +/-{:4.1f})  [using {}]'.format(errTe.mean(), errTe.std(),\n",
    "                                                                                     errTr.mean(), errTr.std(), \n",
    "                                                                                     classifier_fcn.__name__))\n",
    "    return np.mean(errTe), np.mean(errTr)"
   ]
  },
  {
   "cell_type": "code",
   "execution_count": 5,
   "metadata": {},
   "outputs": [],
   "source": [
    "def loss_weighted_error(out, y):\n",
    "    '''\n",
    "    Synopsis:\n",
    "        loss= loss_weighted_error( out, y )\n",
    "    Arguments:\n",
    "        out:  output of the classifier\n",
    "        y:    true class labels\n",
    "    Output:\n",
    "        loss: weighted error\n",
    "    '''\n",
    "#test this function with knowing what the output should be: only one class and the output should be 50%, \n",
    "#same output as y --> error should be 0\n",
    "    err0 = 0\n",
    "    err1 = 0\n",
    "\n",
    "    for i in range(0, len(y)):\n",
    "        if(y[i] == 0):\n",
    "            if(y[i] != out[i]):\n",
    "                err0+=1\n",
    "        else:\n",
    "            if(y[i] != out[i]):\n",
    "                err1+=1\n",
    "    loss = (err0 + err1)/2\n",
    "    return loss"
   ]
  },
  {
   "cell_type": "markdown",
   "metadata": {},
   "source": [
    "## Preparation: Load Data"
   ]
  },
  {
   "cell_type": "code",
   "execution_count": 6,
   "metadata": {},
   "outputs": [],
   "source": [
    "fname = 'erp_hexVPsag.npz'\n",
    "cnt, fs, clab, mnt, mrk_pos, mrk_class, mrk_className = bci.load_data(fname)"
   ]
  },
  {
   "cell_type": "markdown",
   "metadata": {},
   "source": [
    "## Exercise 4: Classification of Temporal Features  (3 points)\n",
    "Extract as temporal features from single channels the epochs of the time interval 0 to 1000 ms. Determine the error of classification with LDA and with NCC on those features using 10-fold cross-validation for each single channel. Display the resulting (test) error rates for all channel as scalp topographies (one for LDA and one for NCC)."
   ]
  },
  {
   "cell_type": "code",
   "execution_count": 7,
   "metadata": {},
   "outputs": [
    {
     "name": "stdout",
     "output_type": "stream",
     "text": [
      "crossvalidation(): nDim: 101\n",
      "crossvalidation(): nSamples 1200\n",
      "train_LDA(): LDA call\n",
      "train_LDA(): Mean1 calc: 0.4921431565983542\n",
      "train_LDA(): Mean2 calc: -0.4291856124303542\n",
      "train_LDA(): Cov calc, shape: (879, 879)\n",
      "train_LDA(): w calc, shape: (879, 879)\n",
      "train_LDA(): b calc, shape: (879, 879)\n",
      "\n",
      "crossvalidation(): w shape: (879, 879)\n",
      "crossvalidation(): b shape: (879, 879)\n",
      "crossvalidation(): X shape: (101, 1200)\n"
     ]
    },
    {
     "ename": "ValueError",
     "evalue": "shapes (879,879) and (101,1200) not aligned: 879 (dim 1) != 101 (dim 0)",
     "output_type": "error",
     "traceback": [
      "\u001b[0;31m---------------------------------------------------------------------------\u001b[0m",
      "\u001b[0;31mValueError\u001b[0m                                Traceback (most recent call last)",
      "\u001b[0;32m<ipython-input-7-f9588286a052>\u001b[0m in \u001b[0;36m<module>\u001b[0;34m()\u001b[0m\n\u001b[1;32m      6\u001b[0m \u001b[0;32mfor\u001b[0m \u001b[0mi\u001b[0m \u001b[0;32min\u001b[0m \u001b[0mrange\u001b[0m\u001b[0;34m(\u001b[0m\u001b[0;36m0\u001b[0m\u001b[0;34m,\u001b[0m \u001b[0mepo\u001b[0m\u001b[0;34m.\u001b[0m\u001b[0mshape\u001b[0m\u001b[0;34m[\u001b[0m\u001b[0;36m1\u001b[0m\u001b[0;34m]\u001b[0m\u001b[0;34m)\u001b[0m\u001b[0;34m:\u001b[0m\u001b[0;34m\u001b[0m\u001b[0m\n\u001b[1;32m      7\u001b[0m     \u001b[0mtmp\u001b[0m \u001b[0;34m=\u001b[0m \u001b[0mepo\u001b[0m\u001b[0;34m[\u001b[0m\u001b[0;34m:\u001b[0m\u001b[0;34m,\u001b[0m\u001b[0mi\u001b[0m\u001b[0;34m,\u001b[0m\u001b[0;34m:\u001b[0m\u001b[0;34m]\u001b[0m\u001b[0;34m\u001b[0m\u001b[0m\n\u001b[0;32m----> 8\u001b[0;31m     \u001b[0mloss_te\u001b[0m\u001b[0;34m,\u001b[0m \u001b[0mloss_tr\u001b[0m \u001b[0;34m=\u001b[0m \u001b[0mcrossvalidation\u001b[0m\u001b[0;34m(\u001b[0m\u001b[0mtrain_LDA\u001b[0m\u001b[0;34m,\u001b[0m \u001b[0mtmp\u001b[0m \u001b[0;34m,\u001b[0m \u001b[0mmrk_class\u001b[0m\u001b[0;34m,\u001b[0m \u001b[0mnFolds\u001b[0m\u001b[0;34m=\u001b[0m\u001b[0;36m10\u001b[0m\u001b[0;34m,\u001b[0m \u001b[0mverbose\u001b[0m\u001b[0;34m=\u001b[0m\u001b[0;32mFalse\u001b[0m\u001b[0;34m)\u001b[0m\u001b[0;34m\u001b[0m\u001b[0m\n\u001b[0m",
      "\u001b[0;32m<ipython-input-4-221ec3186522>\u001b[0m in \u001b[0;36mcrossvalidation\u001b[0;34m(classifier_fcn, X, y, nFolds, verbose)\u001b[0m\n\u001b[1;32m     30\u001b[0m         \u001b[0mprint\u001b[0m\u001b[0;34m(\u001b[0m\u001b[0;34m\"crossvalidation(): b shape:\"\u001b[0m\u001b[0;34m,\u001b[0m \u001b[0mb\u001b[0m\u001b[0;34m.\u001b[0m\u001b[0mshape\u001b[0m\u001b[0;34m)\u001b[0m\u001b[0;34m\u001b[0m\u001b[0m\n\u001b[1;32m     31\u001b[0m         \u001b[0mprint\u001b[0m\u001b[0;34m(\u001b[0m\u001b[0;34m\"crossvalidation(): X shape:\"\u001b[0m\u001b[0;34m,\u001b[0m \u001b[0mX\u001b[0m\u001b[0;34m.\u001b[0m\u001b[0mshape\u001b[0m\u001b[0;34m)\u001b[0m\u001b[0;34m\u001b[0m\u001b[0m\n\u001b[0;32m---> 32\u001b[0;31m         \u001b[0mout\u001b[0m \u001b[0;34m=\u001b[0m \u001b[0mw\u001b[0m\u001b[0;34m.\u001b[0m\u001b[0mT\u001b[0m\u001b[0;34m.\u001b[0m\u001b[0mdot\u001b[0m\u001b[0;34m(\u001b[0m\u001b[0mX\u001b[0m\u001b[0;34m)\u001b[0m \u001b[0;34m-\u001b[0m \u001b[0mb\u001b[0m\u001b[0;34m\u001b[0m\u001b[0m\n\u001b[0m\u001b[1;32m     33\u001b[0m         \u001b[0merrTe\u001b[0m\u001b[0;34m[\u001b[0m\u001b[0mff\u001b[0m\u001b[0;34m]\u001b[0m \u001b[0;34m=\u001b[0m \u001b[0mloss_weighted_error\u001b[0m\u001b[0;34m(\u001b[0m\u001b[0mout\u001b[0m\u001b[0;34m[\u001b[0m\u001b[0midxTe\u001b[0m\u001b[0;34m]\u001b[0m\u001b[0;34m,\u001b[0m \u001b[0my\u001b[0m\u001b[0;34m[\u001b[0m\u001b[0midxTe\u001b[0m\u001b[0;34m]\u001b[0m\u001b[0;34m)\u001b[0m\u001b[0;34m\u001b[0m\u001b[0m\n\u001b[1;32m     34\u001b[0m         \u001b[0merrTr\u001b[0m\u001b[0;34m[\u001b[0m\u001b[0mff\u001b[0m\u001b[0;34m]\u001b[0m \u001b[0;34m=\u001b[0m \u001b[0mloss_weighted_error\u001b[0m\u001b[0;34m(\u001b[0m\u001b[0mout\u001b[0m\u001b[0;34m[\u001b[0m\u001b[0midxTr\u001b[0m\u001b[0;34m]\u001b[0m\u001b[0;34m,\u001b[0m \u001b[0my\u001b[0m\u001b[0;34m[\u001b[0m\u001b[0midxTr\u001b[0m\u001b[0;34m]\u001b[0m\u001b[0;34m)\u001b[0m\u001b[0;34m\u001b[0m\u001b[0m\n",
      "\u001b[0;31mValueError\u001b[0m: shapes (879,879) and (101,1200) not aligned: 879 (dim 1) != 101 (dim 0)"
     ]
    }
   ],
   "source": [
    "ref_ival = [-100, 0]\n",
    "ival = [0, 1000]\n",
    "epo, epo_t = bci.makeepochs(cnt, fs, mrk_pos, ival)\n",
    "epo = bci.baseline(epo, epo_t, ref_ival)\n",
    "\n",
    "for i in range(0, epo.shape[1]):\n",
    "    tmp = epo[:,i,:]\n",
    "    loss_te, loss_tr = crossvalidation(train_LDA, tmp , mrk_class, nFolds=10, verbose=False)"
   ]
  },
  {
   "cell_type": "markdown",
   "metadata": {},
   "source": [
    "## Exercise 5: Classification of Spatial Features  (4 points)\n",
    "Perform classification (*target* vs. *nontarget*) on spatial features (average across time within a 50 ms interval) in a time window that is shifted from 0 to 1000 ms in steps of 10 ms, again with both, LDA and NCC. Visualize the time courses of the classification error. Again, use 10-fold cross-validation. Here, use a baseline correction w.r.t. the prestimulus interval -100 to 0 ms."
   ]
  },
  {
   "cell_type": "code",
   "execution_count": null,
   "metadata": {
    "scrolled": true
   },
   "outputs": [],
   "source": []
  },
  {
   "cell_type": "code",
   "execution_count": null,
   "metadata": {},
   "outputs": [],
   "source": []
  },
  {
   "cell_type": "code",
   "execution_count": null,
   "metadata": {},
   "outputs": [],
   "source": []
  }
 ],
 "metadata": {
  "anaconda-cloud": {},
  "kernelspec": {
   "display_name": "Python 3",
   "language": "python",
   "name": "python3"
  },
  "language_info": {
   "codemirror_mode": {
    "name": "ipython",
    "version": 3
   },
   "file_extension": ".py",
   "mimetype": "text/x-python",
   "name": "python",
   "nbconvert_exporter": "python",
   "pygments_lexer": "ipython3",
   "version": "3.7.0"
  }
 },
 "nbformat": 4,
 "nbformat_minor": 2
}
