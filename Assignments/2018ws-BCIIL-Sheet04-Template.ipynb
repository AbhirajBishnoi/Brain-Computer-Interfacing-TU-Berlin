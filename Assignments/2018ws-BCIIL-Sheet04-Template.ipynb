{
 "cells": [
  {
   "cell_type": "markdown",
   "metadata": {},
   "source": [
    "### General rules:\n",
    " * For all figures that you generate, remember to add meaningful labels to the axes, and make a legend, if applicable.\n",
    " * Do not hard code constants, like number of samples, number of channels, etc in your program. These values should always be determined from the given data. This way, you can easily use the code to analyse other data sets.\n",
    " * Do not use high-level functions from toolboxes like scikit-learn.\n",
    " * Replace *Template* by your *FirstnameLastname* in the filename, or by *Lastname1Lastname2* if you work in pairs."
   ]
  },
  {
   "cell_type": "markdown",
   "metadata": {},
   "source": [
    "# BCI-IL WS 2018/2019 - Exercise Sheet #04"
   ]
  },
  {
   "cell_type": "markdown",
   "metadata": {},
   "source": [
    "#### Name:"
   ]
  },
  {
   "cell_type": "code",
   "execution_count": 1,
   "metadata": {},
   "outputs": [],
   "source": [
    "% matplotlib inline\n",
    "\n",
    "import numpy as np\n",
    "import scipy as sp\n",
    "from matplotlib import pyplot as plt\n",
    "\n",
    "import bci_minitoolbox as bci\n",
    "import bci_classifiers as cfy"
   ]
  },
  {
   "cell_type": "markdown",
   "metadata": {},
   "source": [
    "## Exercise 1: Implementation of Shrinkage for Covariance Estimation  (7 points)\n",
    "Implement a function `cov_shrink` that estimates the covariance matrix of data using shrinkage with the analytic method of determining the shrinkage coefficient as presented in the lecture. Input and output of that function should be as in the function `numpy.cov`.\n",
    "\n",
    "If you cannot succeed with this task, you may import the function `cov_shrink` from `bci_helper_sheet4.pyc` (available at the moodle page) for the subsequent exercises."
   ]
  },
  {
   "cell_type": "code",
   "execution_count": 2,
   "metadata": {},
   "outputs": [],
   "source": [
    "def cov_shrink(X):\n",
    "    '''\n",
    "    Estimate covariance of given data using shrinkage estimator.\n",
    "    \n",
    "    Synopsis:\n",
    "        C= cov_shrink(X)\n",
    "    Argument:\n",
    "        X: data matrix (features x samples)\n",
    "    Output:\n",
    "        C: estimated covariance matrix\n",
    "    '''\n",
    "    for i in range(X.shape[1]):\n",
    "        avg = np.mean(X[:, i])\n",
    "        Z[i] = (X[:,i] - avg).dot((X[:, i] - avg).T)\n",
    "    sigma_cap = np.sum(Z)/Z.shape[0]-1\n",
    "    #Added mean, we forgot that last time from the formula\n",
    "    v = np.mean(np.trace(sigma_cap)/sigam_cap.shape[0])\n",
    "    \n",
    "    s = sigma_cap - v*np.identity(sigma_cap.shape[0])\n",
    "   \n",
    "    for i in range(X.shape[0]):\n",
    "        for j in range(X.shape[0]):\n",
    "            var += np.var(Z[:,i,j])\n",
    "            sum_s += np.square(s[i,j])\n",
    "        \n",
    "    gamma_star = (X.shape[1]/np.square((X.shape[1]-1)))*var/sum_s\n",
    "    \n",
    "    sigma_tilde = (1-gamma_star)*sigma_cap+gamma_star*v*np.identity\n",
    "    \n",
    "    return sigma_tilde\n",
    "                  \n",
    "    \n",
    "    "
   ]
  },
  {
   "cell_type": "markdown",
   "metadata": {},
   "source": [
    "## Exercise 2: Implementation of LDA with Shrinkage  (3 points)\n",
    "Implement a function `train_LDAshrink` that calculates the LDA classifier in which the estimation of the covariance matrices is enhanced by shrinkage. Input and output should be the same as for `train_LDA` from sheet \\#03. As for LDA, use the pseudo inverse (`numpy.linalg.pinv`) instead of the usual matrix inversion. \n",
    "\n",
    "If you cannot succeed with this task, you may import the function `train_LDAshrink` from `bci_helper_sheet04_pythonPV.pyc` (available at the moodle page) with PV being your python version (27,35,36) for the subsequent exercises."
   ]
  },
  {
   "cell_type": "code",
   "execution_count": 3,
   "metadata": {},
   "outputs": [],
   "source": [
    "def train_LDAshrink(X, y):\n",
    "    '''\n",
    "    Synopsis:\n",
    "        w, b= train_LDAshrink(X, y)\n",
    "    Arguments:\n",
    "        X: data matrix (features X samples)\n",
    "        y: labels with values 0 and 1 (1 x samples)\n",
    "    Output:\n",
    "        w: LDA weight vector\n",
    "        b: bias term\n",
    "    '''\n",
    "    \n",
    "    u1 = np.mean(X[:, y == 0], axis=1)\n",
    "    u2 = np.mean(X[:, y == 1], axis=1)\n",
    "    \n",
    "    #From np.cov documentation:  each row represents a variable, \n",
    "    #with observations in the columns\n",
    "    C_target = cov_shrink(X[:, y == 0])\n",
    "    C_nontarget = cov_shrink(X[:, y == 1])\n",
    "    C = 1/2 * (C_target + C_nontarget) \n",
    "    w = np.linalg.pinv(C).dot(u2 - u1)\n",
    "    b = w.T.dot((u1 + u2)/2)\n",
    "    \n",
    "    return (w, b)"
   ]
  },
  {
   "cell_type": "markdown",
   "metadata": {},
   "source": [
    "## Preparation: Load data"
   ]
  },
  {
   "cell_type": "code",
   "execution_count": 9,
   "metadata": {},
   "outputs": [],
   "source": [
    "fname = 'erp_hexVPsag.npz'\n",
    "cnt, fs, clab, mnt, mrk_pos, mrk_class, mrk_className = bci.load_data(fname)"
   ]
  },
  {
   "cell_type": "markdown",
   "metadata": {},
   "source": [
    "## Exercise 3: Classification of Spatio-Temporal Features  (5 points)\n",
    "First, use the time-averaged potential in each of the intervals [ms]: 160-200, 200-220, 230-260, 260-290, 300-320, 330-370, 380-430, and 480-520 as feature vector (dimension 55 `x` 1) for each trial. For each interval calculate the 3-fold cross-validation error using LDA with and without shrinkage.\n",
    "\n",
    "In a second step, concatenate the eight feature vectors, that were calcualted for the eight specified intervals into one feature vector (dimension 440 `x` 1) for each trial. Again, determine the 3-fold cross-validation error using LDA with and without shrinkage."
   ]
  },
  {
   "cell_type": "code",
   "execution_count": 73,
   "metadata": {},
   "outputs": [
    {
     "name": "stdout",
     "output_type": "stream",
     "text": [
      "epo shape: (5, 55, 1200)\n",
      "tmp shape: (5, 55)\n",
      "epo shape: (3, 55, 1200)\n",
      "tmp shape: (3, 55)\n",
      "epo shape: (4, 55, 1200)\n",
      "tmp shape: (4, 55)\n",
      "epo shape: (4, 55, 1200)\n",
      "tmp shape: (4, 55)\n",
      "epo shape: (3, 55, 1200)\n",
      "tmp shape: (3, 55)\n",
      "epo shape: (5, 55, 1200)\n",
      "tmp shape: (5, 55)\n",
      "epo shape: (6, 55, 1200)\n",
      "tmp shape: (6, 55)\n",
      "epo shape: (5, 55, 1200)\n",
      "tmp shape: (5, 55)\n"
     ]
    },
    {
     "name": "stderr",
     "output_type": "stream",
     "text": [
      "/anaconda3/lib/python3.7/site-packages/numpy/core/fromnumeric.py:2920: RuntimeWarning: Mean of empty slice.\n",
      "  out=out, **kwargs)\n",
      "/anaconda3/lib/python3.7/site-packages/numpy/core/_methods.py:78: RuntimeWarning: invalid value encountered in true_divide\n",
      "  ret, rcount, out=ret, casting='unsafe', subok=False)\n"
     ]
    }
   ],
   "source": [
    "ival = [[160, 200], [200, 220], [230, 260], [260, 290], [300, 320], [330, 370], [380, 430], [480, 520]]\n",
    "\n",
    "ref_ival = [-100, 0]\n",
    "epo, epo_t = bci.makeepochs(cnt, fs, mrk_pos, ival[i])\n",
    "epo = bci.baseline(epo, epo_t, ref_ival)"
   ]
  },
  {
   "cell_type": "code",
   "execution_count": null,
   "metadata": {},
   "outputs": [],
   "source": []
  },
  {
   "cell_type": "code",
   "execution_count": null,
   "metadata": {},
   "outputs": [],
   "source": []
  },
  {
   "cell_type": "code",
   "execution_count": null,
   "metadata": {},
   "outputs": [],
   "source": []
  }
 ],
 "metadata": {
  "anaconda-cloud": {},
  "kernelspec": {
   "display_name": "Python 3",
   "language": "python",
   "name": "python3"
  },
  "language_info": {
   "codemirror_mode": {
    "name": "ipython",
    "version": 3
   },
   "file_extension": ".py",
   "mimetype": "text/x-python",
   "name": "python",
   "nbconvert_exporter": "python",
   "pygments_lexer": "ipython3",
   "version": "3.7.0"
  }
 },
 "nbformat": 4,
 "nbformat_minor": 1
}
