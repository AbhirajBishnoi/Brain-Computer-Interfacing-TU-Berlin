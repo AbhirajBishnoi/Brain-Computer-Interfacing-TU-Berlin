{
 "cells": [
  {
   "cell_type": "markdown",
   "metadata": {},
   "source": [
    "### General rules:\n",
    " * For all figures that you generate, remember to add meaningful labels to the axes, and make a legend, if applicable.\n",
    " * Do not hard code constants, like number of samples, number of channels, etc in your program. These values should always be determined from the given data. This way, you can easily use the code to analyse other data sets.\n",
    " * Do not use high-level functions from toolboxes like scikit-learn.\n",
    " * Replace *Template* by your *FirstnameLastname* in the filename, or by *Lastname1Lastname2* if you work in pairs."
   ]
  },
  {
   "cell_type": "markdown",
   "metadata": {},
   "source": [
    "# BCI-IL WS 2018/2019 - Exercise Sheet #04"
   ]
  },
  {
   "cell_type": "markdown",
   "metadata": {},
   "source": [
    "#### Name:"
   ]
  },
  {
   "cell_type": "code",
   "execution_count": 1,
   "metadata": {},
   "outputs": [],
   "source": [
    "% matplotlib inline\n",
    "\n",
    "import numpy as np\n",
    "import scipy as sp\n",
    "from matplotlib import pyplot as plt\n",
    "\n",
    "import bci_minitoolbox as bci\n",
    "import bci_classifiers as cfy\n",
    "\n",
    "import bci_helper_sheet04_python37 as bcih"
   ]
  },
  {
   "cell_type": "markdown",
   "metadata": {},
   "source": [
    "## Exercise 1: Implementation of Shrinkage for Covariance Estimation  (7 points)\n",
    "Implement a function `cov_shrink` that estimates the covariance matrix of data using shrinkage with the analytic method of determining the shrinkage coefficient as presented in the lecture. Input and output of that function should be as in the function `numpy.cov`.\n",
    "\n",
    "If you cannot succeed with this task, you may import the function `cov_shrink` from `bci_helper_sheet4.pyc` (available at the moodle page) for the subsequent exercises."
   ]
  },
  {
   "cell_type": "code",
   "execution_count": 2,
   "metadata": {},
   "outputs": [],
   "source": [
    "def cov_shrink(X):\n",
    "    '''\n",
    "    Estimate covariance of given data using shrinkage estimator.\n",
    "    \n",
    "    Synopsis:\n",
    "        C= cov_shrink(X)\n",
    "    Argument:\n",
    "        X: data matrix (features x samples)\n",
    "    Output:\n",
    "        C: estimated covariance matrix\n",
    "    '''\n",
    "    Z = np.zeros((X.shape[1],X.shape[0],X.shape[0]))\n",
    "    for i in range(X.shape[1]):\n",
    "        avg = np.mean(X[:, i])\n",
    "        #print(\"Mean:\", avg)\n",
    "        newZ = np.outer((X[:,i] - avg),((X[:, i] - avg)))\n",
    "        Z[i] = newZ\n",
    "    #print(\"Size Z:\", Z.shape)\n",
    "    \n",
    "    #First try gives different values than np.cov\n",
    "    #sigma_cap = np.sum(Z,axis=0)/X.shape[1]-1\n",
    "    sigma_cap = np.cov(X)\n",
    "    \n",
    "    v = np.mean(np.trace(sigma_cap)/sigma_cap.shape[0])\n",
    "    \n",
    "    s = sigma_cap - v*np.identity(sigma_cap.shape[0])\n",
    "    s_square = np.square(s)\n",
    "    \n",
    "    var = 0\n",
    "    sum_s = 0\n",
    "    \n",
    "    for i in range(X.shape[0]):\n",
    "        for j in range(X.shape[0]):\n",
    "            var += np.var(Z[:,i,j])\n",
    "            sum_s += np.square(s[i,j])\n",
    "        \n",
    "    gamma_star = (X.shape[1]/np.square((X.shape[1]-1)))*var/sum_s\n",
    "    \n",
    "    sigma_tilde = (1-gamma_star)*sigma_cap+gamma_star*v*np.identity(sigma_cap.shape[0])\n",
    "    \n",
    "    return sigma_tilde\n",
    "\n",
    "def cov_shrink2(X):\n",
    "    return bcih.cov_shrink(X)"
   ]
  },
  {
   "cell_type": "markdown",
   "metadata": {},
   "source": [
    "## Exercise 2: Implementation of LDA with Shrinkage  (3 points)\n",
    "Implement a function `train_LDAshrink` that calculates the LDA classifier in which the estimation of the covariance matrices is enhanced by shrinkage. Input and output should be the same as for `train_LDA` from sheet \\#03. As for LDA, use the pseudo inverse (`numpy.linalg.pinv`) instead of the usual matrix inversion. \n",
    "\n",
    "If you cannot succeed with this task, you may import the function `train_LDAshrink` from `bci_helper_sheet04_pythonPV.pyc` (available at the moodle page) with PV being your python version (27,35,36) for the subsequent exercises."
   ]
  },
  {
   "cell_type": "code",
   "execution_count": 3,
   "metadata": {},
   "outputs": [],
   "source": [
    "def train_LDAshrink(X, y):\n",
    "    '''\n",
    "    Synopsis:\n",
    "        w, b= train_LDAshrink(X, y)\n",
    "    Arguments:\n",
    "        X: data matrix (features X samples)\n",
    "        y: labels with values 0 and 1 (1 x samples)\n",
    "    Output:\n",
    "        w: LDA weight vector\n",
    "        b: bias term\n",
    "    '''\n",
    "    mean0 = np.mean(X[:, y==0], axis = 1)\n",
    "    mean1 = np.mean(X[:, y==1], axis = 1)\n",
    "    \n",
    "    cov0 = cov_shrink (X[:, y==0])\n",
    "    cov1 = cov_shrink (X[:, y==1])\n",
    "    \n",
    "    covm = (cov0+cov1)/2\n",
    "\n",
    "    w = np.linalg.inv(covm).dot(mean1-mean0)\n",
    "    b = w.T.dot((mean0+mean1)/2)\n",
    "    \n",
    "    return w, b\n",
    "\n",
    "def train_LDAshrink2(X,y):\n",
    "    return bcih.train_LDAshrink(X,y)"
   ]
  },
  {
   "cell_type": "code",
   "execution_count": null,
   "metadata": {},
   "outputs": [],
   "source": []
  },
  {
   "cell_type": "markdown",
   "metadata": {},
   "source": [
    "## Preparation: Load data"
   ]
  },
  {
   "cell_type": "code",
   "execution_count": 4,
   "metadata": {},
   "outputs": [],
   "source": [
    "fname = 'erp_hexVPsag.npz'\n",
    "cnt, fs, clab, mnt, mrk_pos, mrk_class, mrk_className = bci.load_data(fname)"
   ]
  },
  {
   "cell_type": "markdown",
   "metadata": {},
   "source": [
    "## Exercise 3: Classification of Spatio-Temporal Features  (5 points)\n",
    "First, use the time-averaged potential in each of the intervals [ms]: 160-200, 200-220, 230-260, 260-290, 300-320, 330-370, 380-430, and 480-520 as feature vector (dimension 55 `x` 1) for each trial. For each interval calculate the 3-fold cross-validation error using LDA with and without shrinkage.\n",
    "\n",
    "In a second step, concatenate the eight feature vectors, that were calcualted for the eight specified intervals into one feature vector (dimension 440 `x` 1) for each trial. Again, determine the 3-fold cross-validation error using LDA with and without shrinkage."
   ]
  },
  {
   "cell_type": "code",
   "execution_count": 8,
   "metadata": {
    "scrolled": true
   },
   "outputs": [
    {
     "name": "stdout",
     "output_type": "stream",
     "text": [
      "Intervall [160, 200]\n",
      "Epo (55, 1200)\n",
      " 49.4 +/- 1.1  (training: 36.2 +/- 2.5)  [using train_LDAshrink]\n",
      " 48.2 +/- 2.4  (training: 36.2 +/- 1.6)  [using train_LDA]\n",
      " 49.5 +/- 0.4  (training: 36.6 +/- 1.6)  [using train_LDAshrink2]\n",
      "Intervall [200, 220]\n",
      "Epo (55, 1200)\n",
      " 46.2 +/- 2.4  (training: 35.0 +/- 2.3)  [using train_LDAshrink]\n",
      " 46.1 +/- 1.1  (training: 34.2 +/- 1.3)  [using train_LDA]\n",
      " 47.1 +/- 2.2  (training: 34.6 +/- 0.8)  [using train_LDAshrink2]\n",
      "Intervall [230, 260]\n",
      "Epo (55, 1200)\n",
      " 33.5 +/- 3.5  (training: 27.9 +/- 1.5)  [using train_LDAshrink]\n",
      " 35.6 +/- 5.0  (training: 27.1 +/- 0.9)  [using train_LDA]\n",
      " 36.4 +/- 1.9  (training: 28.4 +/- 0.8)  [using train_LDAshrink2]\n",
      "Intervall [260, 290]\n",
      "Epo (55, 1200)\n",
      " 37.5 +/- 1.6  (training: 28.9 +/- 1.5)  [using train_LDAshrink]\n",
      " 39.5 +/- 1.3  (training: 27.9 +/- 2.4)  [using train_LDA]\n",
      " 38.3 +/- 1.8  (training: 29.0 +/- 1.1)  [using train_LDAshrink2]\n",
      "Intervall [300, 320]\n",
      "Epo (55, 1200)\n",
      " 38.2 +/- 1.1  (training: 31.7 +/- 1.0)  [using train_LDAshrink]\n",
      " 39.0 +/- 4.5  (training: 30.2 +/- 2.1)  [using train_LDA]\n",
      " 39.7 +/- 2.1  (training: 30.7 +/- 1.2)  [using train_LDAshrink2]\n",
      "Intervall [330, 370]\n",
      "Epo (55, 1200)\n",
      " 35.9 +/- 1.9  (training: 28.2 +/- 1.3)  [using train_LDAshrink]\n",
      " 39.0 +/- 3.6  (training: 28.7 +/- 1.4)  [using train_LDA]\n",
      " 36.0 +/- 2.5  (training: 29.3 +/- 1.4)  [using train_LDAshrink2]\n",
      "Intervall [380, 430]\n",
      "Epo (55, 1200)\n",
      " 39.3 +/- 1.0  (training: 32.5 +/- 0.8)  [using train_LDAshrink]\n",
      " 42.1 +/- 6.0  (training: 30.9 +/- 0.7)  [using train_LDA]\n",
      " 43.2 +/- 0.5  (training: 33.1 +/- 0.7)  [using train_LDAshrink2]\n",
      "Intervall [480, 520]\n",
      "Epo (55, 1200)\n",
      " 56.9 +/- 1.2  (training: 39.4 +/- 0.9)  [using train_LDAshrink]\n",
      " 56.0 +/- 2.0  (training: 38.5 +/- 1.0)  [using train_LDA]\n",
      " 54.3 +/- 1.9  (training: 39.4 +/- 2.5)  [using train_LDAshrink2]\n",
      " 21.4 +/- 1.1  (training:  7.6 +/- 0.1)  [using train_LDAshrink]\n",
      " 30.2 +/- 3.4  (training:  0.7 +/- 0.2)  [using train_LDA]\n",
      " 21.3 +/- 1.4  (training:  6.9 +/- 0.5)  [using train_LDAshrink2]\n",
      "Error with shrinkage: 21.439635811823212\n",
      "Error without shrinkage 30.189861012612294\n",
      "Error without shrinkage helper 21.26973864671625\n"
     ]
    },
    {
     "data": {
      "text/plain": [
       "<function matplotlib.pyplot.show(*args, **kw)>"
      ]
     },
     "execution_count": 8,
     "metadata": {},
     "output_type": "execute_result"
    },
    {
     "data": {
      "image/png": "[encoded data removed]",
      "text/plain": [
       "<Figure size 432x288 with 1 Axes>"
      ]
     },
     "metadata": {
      "needs_background": "light"
     },
     "output_type": "display_data"
    }
   ],
   "source": [
    "ival = [[160, 200], [200, 220], [230, 260], [260, 290], [300, 320], [330, 370], [380, 430], [480, 520]]\n",
    "\n",
    "master_epo = []\n",
    "\n",
    "nIvals = len(ival)\n",
    "err1 = np.zeros(nIvals)\n",
    "err0 = np.zeros(nIvals)\n",
    "err5 = np.zeros(nIvals)\n",
    "\n",
    "for i in range(nIvals):\n",
    "    print(\"Intervall\", ival[i])\n",
    "    \n",
    "    epo, epo_t = bci.makeepochs(cnt, fs, mrk_pos, ival[i])\n",
    "    epo = np.mean(epo,axis=0)\n",
    "    print(\"Epo\", epo.shape)\n",
    "    \n",
    "    master_epo.extend(epo)\n",
    "    \n",
    "    err1[i] ,errt1 = cfy.crossvalidation(train_LDAshrink,epo,mrk_class, folds=3, verbose=True)\n",
    "    err0[i] ,errt0 = cfy.crossvalidation(cfy.train_LDA,epo,mrk_class, folds=3, verbose=True)\n",
    "    #print(\"Err0:\", err0)\n",
    "    #print(\"Err1:\", err1)\n",
    "    err5[i] ,errt5 = cfy.crossvalidation(train_LDAshrink2,epo,mrk_class, folds=3, verbose=True)\n",
    "    \n",
    "\n",
    "#print(len(master_epo))\n",
    "master_epo = np.array(master_epo)\n",
    "#print(master_epo.shape)\n",
    "\n",
    "err2, errt2 = cfy.crossvalidation(train_LDAshrink,master_epo,mrk_class,verbose=True, folds=3)\n",
    "err3, errt3 = cfy.crossvalidation(cfy.train_LDA,master_epo,mrk_class,verbose=True, folds=3)\n",
    "\n",
    "err6, errt2 = cfy.crossvalidation(train_LDAshrink2,master_epo,mrk_class,verbose=True, folds=3)\n",
    "\n",
    "\n",
    "print(\"Error with shrinkage:\", err2)\n",
    "print(\"Error with shrinkage helper\", err6)\n",
    "print(\"Error without shrinkage\", err3)\n",
    "\n",
    "plt.figure()\n",
    "plt.plot(np.arange(nIvals), err1, label = \"Errors with shrinkage\")\n",
    "plt.plot(np.arange(nIvals), err5, label = \"Errors with shrinkage helper\")\n",
    "plt.plot(np.arange(nIvals), err0, label = \"Errors without shrinkage\")\n",
    "plt.xlabel(\"Interval\")\n",
    "plt.ylabel(\"Training error\")\n",
    "plt.legend()\n",
    "plt.grid()\n",
    "plt.show\n"
   ]
  },
  {
   "cell_type": "code",
   "execution_count": null,
   "metadata": {},
   "outputs": [],
   "source": [
    "\n"
   ]
  },
  {
   "cell_type": "code",
   "execution_count": null,
   "metadata": {},
   "outputs": [],
   "source": []
  }
 ],
 "metadata": {
  "anaconda-cloud": {},
  "kernelspec": {
   "display_name": "Python 3",
   "language": "python",
   "name": "python3"
  },
  "language_info": {
   "codemirror_mode": {
    "name": "ipython",
    "version": 3
   },
   "file_extension": ".py",
   "mimetype": "text/x-python",
   "name": "python",
   "nbconvert_exporter": "python",
   "pygments_lexer": "ipython3",
   "version": "3.7.0"
  }
 },
 "nbformat": 4,
 "nbformat_minor": 1
}
